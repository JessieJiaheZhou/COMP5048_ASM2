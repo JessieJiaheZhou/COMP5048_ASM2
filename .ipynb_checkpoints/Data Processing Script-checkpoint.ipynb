{
 "cells": [
  {
   "cell_type": "code",
   "execution_count": 1,
   "metadata": {},
   "outputs": [
    {
     "name": "stdout",
     "output_type": "stream",
     "text": [
      "Requirement already satisfied: pypdf2 in /Users/jessiezhou/opt/anaconda3/lib/python3.8/site-packages (1.26.0)\n",
      "Note: you may need to restart the kernel to use updated packages.\n"
     ]
    }
   ],
   "source": [
    "pip install pypdf2"
   ]
  },
  {
   "cell_type": "code",
   "execution_count": 2,
   "metadata": {},
   "outputs": [],
   "source": [
    "import requests\n",
    "from bs4 import BeautifulSoup\n",
    "import io\n",
    "from PyPDF2 import PdfFileReader\n",
    "import urllib.request\n",
    "import pandas as pd"
   ]
  },
  {
   "cell_type": "markdown",
   "metadata": {},
   "source": [
    "### Vaccination-NSW daily"
   ]
  },
  {
   "cell_type": "code",
   "execution_count": 18,
   "metadata": {},
   "outputs": [],
   "source": [
    "df_vaccination= pd.read_excel(\"Datasets/Vaccination/Dataset(National daily)/Daily national Vaccination(Aggregated).xlsx\")\n",
    "df_vaccination = df_vaccination.drop(columns = ['Unnamed: 0']).loc[:,::-1]\n",
    "first_column = df_vaccination.pop('Measure Name')\n",
    "df_vaccination.insert(0, 'Measure Name', first_column)\n",
    "\n",
    "df_nsw_vaccination = df_vaccination[df_vaccination['Measure Name'].str.contains('NSW')].fillna(0)\n",
    "df_aus_vaccination = df_vaccination[df_vaccination['Measure Name'].str.contains('Nation')]\n",
    "\n",
    "df_nsw_admin_dose = df_nsw_vaccination[df_nsw_vaccination['Measure Name'].str.contains('Administration')]\n",
    "df_nsw_population = df_nsw_vaccination[df_nsw_vaccination['Measure Name'].str.contains('Population')]\n",
    "df_nsw_population = df_nsw_population[['Measure Name','5-september-2021']]\n",
    "df_nsw_residence_dose = df_nsw_vaccination[df_nsw_vaccination['Measure Name'].str.contains('Residence')]\n",
    "df_nsw_residence_dose_1 = df_nsw_residence_dose[df_nsw_residence_dose['Measure Name'].str.contains('1 dose')]\n",
    "df_nsw_residence_dose_2 = df_nsw_residence_dose[df_nsw_residence_dose['Measure Name'].str.contains('fully vaccinated')]\n",
    "\n",
    "#folder = \"Vaccination/Processed Data/\"\n",
    "#df_nsw_population.to_excel(folder + \"NSW Population by Age Group.xlsx\")\n",
    "#df_nsw_admin_dose.to_excel(folder + \"NSW Vaccination Data Overview.xlsx\")\n",
    "#df_nsw_residence_dose_1.to_excel(folder + \"NSW Vaccination Data by Age Group - 1 dose.xlsx\")\n",
    "#df_nsw_residence_dose_2.to_excel(folder + \"NSW Vaccination Data by Age Group - 2 dose.xlsx\")"
   ]
  },
  {
   "cell_type": "code",
   "execution_count": 4,
   "metadata": {},
   "outputs": [],
   "source": [
    "df_1dose= pd.read_excel(\"WorkingData/Vaccination (1 dose) Final.xlsx\").iloc[::-1]\n",
    "df_2dose= pd.read_excel(\"WorkingData/Vaccination (2 dose) Final.xlsx\").iloc[::-1]\n",
    "\n",
    "df_1dose.to_excel(\"WorkingData/Vaccination (1 dose).xlsx\")\n",
    "df_2dose.to_excel(\"WorkingData/Vaccination (2 dose).xlsx\")"
   ]
  },
  {
   "cell_type": "code",
   "execution_count": null,
   "metadata": {},
   "outputs": [],
   "source": []
  }
 ],
 "metadata": {
  "kernelspec": {
   "display_name": "Python 3",
   "language": "python",
   "name": "python3"
  },
  "language_info": {
   "codemirror_mode": {
    "name": "ipython",
    "version": 3
   },
   "file_extension": ".py",
   "mimetype": "text/x-python",
   "name": "python",
   "nbconvert_exporter": "python",
   "pygments_lexer": "ipython3",
   "version": "3.8.5"
  }
 },
 "nbformat": 4,
 "nbformat_minor": 4
}
